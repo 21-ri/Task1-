{
 "cells": [
  {
   "cell_type": "code",
   "execution_count": 1,
   "metadata": {},
   "outputs": [],
   "source": [
    "from collections import defaultdict, deque"
   ]
  },
  {
   "cell_type": "code",
   "execution_count": 8,
   "metadata": {},
   "outputs": [],
   "source": [
    "def resolve_dependencies(course_list):\n",
    "    # Build a dictionary to store prerequisites for each course\n",
    "    prerequisites = defaultdict(set)\n",
    "    for course, prereqs in course_list.items():\n",
    "        prerequisites[course] = set(prereqs)\n",
    "    queue = deque(course for course, prereqs in prerequisites.items() if not prereqs)\n",
    "    sorted_courses = []\n",
    "    while queue:\n",
    "        course = queue.popleft()\n",
    "        sorted_courses.append(course)\n",
    "    for dependent_course, deps in prerequisites.items():\n",
    "     if course in deps:\n",
    "        deps.remove(course)\n",
    "        if not deps:\n",
    "            queue.append(dependent_course)\n",
    "            if sorted_courses:\n",
    "             print(\"Course Completion Order:\")\n",
    "            for course in sorted_courses:\n",
    "             print(course)\n",
    "            else:\n",
    "             print(\"No courses found.\")\n",
    "\n",
    "        return sorted_courses"
   ]
  },
  {
   "cell_type": "code",
   "execution_count": 9,
   "metadata": {},
   "outputs": [],
   "source": [
    "prerequisites = {\n",
    "    'Introduction to Programming': [],\n",
    "    'Machine Learning Basics': ['Python Fundamentals', 'Data Structures and Algorithms'],\n",
    "    'Data Science': ['Python Fundamentals', 'Machine Learning Basics'],\n",
    "   \n",
    "}"
   ]
  },
  {
   "cell_type": "code",
   "execution_count": 10,
   "metadata": {},
   "outputs": [],
   "source": [
    "course_list = {\n",
    "    'Introduction to Programming': [],\n",
    "    'Python Fundamentals': ['Introduction to Programming'],\n",
    "    'Data Structures and Algorithms': ['Python Fundamentals'],\n",
    "   'Machine Learning Basics': ['Python Fundamentals', 'Data Structures and Algorithms'],\n",
    "    'Deep Learning Fundamentals': ['Python Fundamentals', 'Data Structures and Algorithms'],\n",
    "    'Advanced Machine Learning': ['Machine Learning Basics'],\n",
    "    'Advanced Deep Learning': ['Deep Learning Fundamentals']\n",
    "}"
   ]
  },
  {
   "cell_type": "code",
   "execution_count": 11,
   "metadata": {},
   "outputs": [
    {
     "name": "stdout",
     "output_type": "stream",
     "text": [
      "Course Completion Order:\n",
      "Introduction to Programming\n",
      "No courses found.\n"
     ]
    }
   ],
   "source": [
    "sorted_courses = resolve_dependencies(course_list)"
   ]
  }
 ],
 "metadata": {
  "kernelspec": {
   "display_name": "Python 3",
   "language": "python",
   "name": "python3"
  },
  "language_info": {
   "codemirror_mode": {
    "name": "ipython",
    "version": 3
   },
   "file_extension": ".py",
   "mimetype": "text/x-python",
   "name": "python",
   "nbconvert_exporter": "python",
   "pygments_lexer": "ipython3",
   "version": "3.9.6"
  },
  "orig_nbformat": 4
 },
 "nbformat": 4,
 "nbformat_minor": 2
}
